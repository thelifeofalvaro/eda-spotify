{
 "cells": [
  {
   "cell_type": "markdown",
   "id": "e62a91fc",
   "metadata": {},
   "source": [
    "## PREPARACIÓN DE LOS ARCHIVOS ##"
   ]
  },
  {
   "cell_type": "markdown",
   "id": "bc237aa6",
   "metadata": {},
   "source": [
    "Importamos las librerías con las que vamos a trabajar así como los archivos/datasets que vamos a usar."
   ]
  },
  {
   "cell_type": "code",
   "execution_count": 1,
   "id": "4a372b23",
   "metadata": {},
   "outputs": [],
   "source": [
    "import pandas as pd\n",
    "\n",
    "#Rutas de los archivos\n",
    "spotify = pd.read_csv(\"../data/raw/universal_top_spotify_songs.csv\")\n",
    "paises = pd.read_csv(\"../data/raw/continents2.csv\")"
   ]
  },
  {
   "cell_type": "markdown",
   "id": "0abc9dc2",
   "metadata": {},
   "source": [
    "Mostramos los nombres de las columnas de ambos datasets para ver por donde podemos mergearlos:"
   ]
  },
  {
   "cell_type": "code",
   "execution_count": 2,
   "id": "4893d34e",
   "metadata": {},
   "outputs": [
    {
     "name": "stdout",
     "output_type": "stream",
     "text": [
      "Columnas Spotify:\n",
      "Index(['spotify_id', 'name', 'artists', 'daily_rank', 'daily_movement',\n",
      "       'weekly_movement', 'country', 'snapshot_date', 'popularity',\n",
      "       'is_explicit', 'duration_ms', 'album_name', 'album_release_date',\n",
      "       'danceability', 'energy', 'key', 'loudness', 'mode', 'speechiness',\n",
      "       'acousticness', 'instrumentalness', 'liveness', 'valence', 'tempo',\n",
      "       'time_signature'],\n",
      "      dtype='object')\n",
      "Columnas Paises:\n",
      "Index(['name', 'alpha-2', 'alpha-3', 'country-code', 'iso_3166-2', 'region',\n",
      "       'sub-region', 'intermediate-region', 'region-code', 'sub-region-code',\n",
      "       'intermediate-region-code'],\n",
      "      dtype='object')\n"
     ]
    }
   ],
   "source": [
    "print(\"Columnas Spotify:\")\n",
    "print(spotify.columns)\n",
    "print(\"Columnas Paises:\")\n",
    "print(paises.columns)"
   ]
  },
  {
   "cell_type": "markdown",
   "id": "6c3303ae",
   "metadata": {},
   "source": [
    "Y también mostramos el tipo de dato de cada columna."
   ]
  },
  {
   "cell_type": "code",
   "execution_count": 3,
   "id": "68d729f2",
   "metadata": {},
   "outputs": [
    {
     "name": "stdout",
     "output_type": "stream",
     "text": [
      "Info Spotify:\n",
      "<class 'pandas.core.frame.DataFrame'>\n",
      "RangeIndex: 2110316 entries, 0 to 2110315\n",
      "Data columns (total 25 columns):\n",
      " #   Column              Dtype  \n",
      "---  ------              -----  \n",
      " 0   spotify_id          object \n",
      " 1   name                object \n",
      " 2   artists             object \n",
      " 3   daily_rank          int64  \n",
      " 4   daily_movement      int64  \n",
      " 5   weekly_movement     int64  \n",
      " 6   country             object \n",
      " 7   snapshot_date       object \n",
      " 8   popularity          int64  \n",
      " 9   is_explicit         bool   \n",
      " 10  duration_ms         int64  \n",
      " 11  album_name          object \n",
      " 12  album_release_date  object \n",
      " 13  danceability        float64\n",
      " 14  energy              float64\n",
      " 15  key                 int64  \n",
      " 16  loudness            float64\n",
      " 17  mode                int64  \n",
      " 18  speechiness         float64\n",
      " 19  acousticness        float64\n",
      " 20  instrumentalness    float64\n",
      " 21  liveness            float64\n",
      " 22  valence             float64\n",
      " 23  tempo               float64\n",
      " 24  time_signature      int64  \n",
      "dtypes: bool(1), float64(9), int64(8), object(7)\n",
      "memory usage: 388.4+ MB\n",
      "None\n"
     ]
    }
   ],
   "source": [
    "print(\"Info Spotify:\")\n",
    "print(spotify.info())"
   ]
  },
  {
   "cell_type": "code",
   "execution_count": 4,
   "id": "33bf9482",
   "metadata": {},
   "outputs": [
    {
     "name": "stdout",
     "output_type": "stream",
     "text": [
      "Datos Paises:\n",
      "             name alpha-2 alpha-3  country-code     iso_3166-2   region  \\\n",
      "0     Afghanistan      AF     AFG             4  ISO 3166-2:AF     Asia   \n",
      "1   Åland Islands      AX     ALA           248  ISO 3166-2:AX   Europe   \n",
      "2         Albania      AL     ALB             8  ISO 3166-2:AL   Europe   \n",
      "3         Algeria      DZ     DZA            12  ISO 3166-2:DZ   Africa   \n",
      "4  American Samoa      AS     ASM            16  ISO 3166-2:AS  Oceania   \n",
      "\n",
      "        sub-region intermediate-region  region-code  sub-region-code  \\\n",
      "0    Southern Asia                 NaN        142.0             34.0   \n",
      "1  Northern Europe                 NaN        150.0            154.0   \n",
      "2  Southern Europe                 NaN        150.0             39.0   \n",
      "3  Northern Africa                 NaN          2.0             15.0   \n",
      "4        Polynesia                 NaN          9.0             61.0   \n",
      "\n",
      "   intermediate-region-code  \n",
      "0                       NaN  \n",
      "1                       NaN  \n",
      "2                       NaN  \n",
      "3                       NaN  \n",
      "4                       NaN  \n"
     ]
    }
   ],
   "source": [
    "print(\"Datos Paises:\")\n",
    "print(paises.head())"
   ]
  },
  {
   "cell_type": "markdown",
   "id": "535853ef",
   "metadata": {},
   "source": [
    "A simple vista en ambos existe la columna 'name', y hay también algunas otras que podrían servirnos 'country' (de Spotify), y 'country-code' de países, por lo que para asegurarnos de mergear por la columna correcta, vamos a imprimir una pequeña muestra de los datos para asegurarnos de fusionar ambos datasets de forma correcta."
   ]
  },
  {
   "cell_type": "code",
   "execution_count": 5,
   "id": "ce988335",
   "metadata": {},
   "outputs": [
    {
     "name": "stdout",
     "output_type": "stream",
     "text": [
      "Datos Spotify:\n",
      "               spotify_id                name                artists  \\\n",
      "0  2RkZ5LkEzeHGRsmDqKwmaJ            Ordinary            Alex Warren   \n",
      "1  42UBPzRMh5yyz0EDPr6fr1            Manchild      Sabrina Carpenter   \n",
      "2  0FTmksd2dxiE5e3rWyJXs6     back to friends                  sombr   \n",
      "3  7so0lgd0zP2Sbgs2d7a1SZ    Die With A Smile  Lady Gaga, Bruno Mars   \n",
      "4  6dOtVTDdiauQNBQEDOtlAB  BIRDS OF A FEATHER          Billie Eilish   \n",
      "\n",
      "   daily_rank  daily_movement  weekly_movement country snapshot_date  \\\n",
      "0           1               1                0     NaN    2025-06-11   \n",
      "1           2              -1               48     NaN    2025-06-11   \n",
      "2           3               0                1     NaN    2025-06-11   \n",
      "3           4               0               -1     NaN    2025-06-11   \n",
      "4           5               1                0     NaN    2025-06-11   \n",
      "\n",
      "   popularity  is_explicit  ...  key loudness mode  speechiness  acousticness  \\\n",
      "0          95        False  ...    2   -6.141    1       0.0600      0.704000   \n",
      "1          89         True  ...    7   -5.087    1       0.0572      0.122000   \n",
      "2          98        False  ...    1   -2.291    1       0.0301      0.000094   \n",
      "3          91        False  ...    6   -7.727    0       0.0317      0.289000   \n",
      "4         100        False  ...    2  -10.171    1       0.0358      0.200000   \n",
      "\n",
      "   instrumentalness  liveness  valence    tempo  time_signature  \n",
      "0          0.000007    0.0550    0.391  168.115               3  \n",
      "1          0.000000    0.3170    0.811  123.010               4  \n",
      "2          0.000088    0.0929    0.235   92.855               4  \n",
      "3          0.000000    0.1260    0.498  157.964               3  \n",
      "4          0.060800    0.1170    0.438  104.978               4  \n",
      "\n",
      "[5 rows x 25 columns]\n"
     ]
    }
   ],
   "source": [
    "print(\"Datos Spotify:\")\n",
    "print(spotify.head())"
   ]
  },
  {
   "cell_type": "code",
   "execution_count": 6,
   "id": "c198cce0",
   "metadata": {},
   "outputs": [
    {
     "name": "stdout",
     "output_type": "stream",
     "text": [
      "Datos Paises:\n",
      "             name alpha-2 alpha-3  country-code     iso_3166-2   region  \\\n",
      "0     Afghanistan      AF     AFG             4  ISO 3166-2:AF     Asia   \n",
      "1   Åland Islands      AX     ALA           248  ISO 3166-2:AX   Europe   \n",
      "2         Albania      AL     ALB             8  ISO 3166-2:AL   Europe   \n",
      "3         Algeria      DZ     DZA            12  ISO 3166-2:DZ   Africa   \n",
      "4  American Samoa      AS     ASM            16  ISO 3166-2:AS  Oceania   \n",
      "\n",
      "        sub-region intermediate-region  region-code  sub-region-code  \\\n",
      "0    Southern Asia                 NaN        142.0             34.0   \n",
      "1  Northern Europe                 NaN        150.0            154.0   \n",
      "2  Southern Europe                 NaN        150.0             39.0   \n",
      "3  Northern Africa                 NaN          2.0             15.0   \n",
      "4        Polynesia                 NaN          9.0             61.0   \n",
      "\n",
      "   intermediate-region-code  \n",
      "0                       NaN  \n",
      "1                       NaN  \n",
      "2                       NaN  \n",
      "3                       NaN  \n",
      "4                       NaN  \n"
     ]
    }
   ],
   "source": [
    "print(\"Datos Paises:\")\n",
    "print(paises.head())"
   ]
  },
  {
   "cell_type": "markdown",
   "id": "9249f0a7",
   "metadata": {},
   "source": [
    "La columna 'name' hace referencia a conceptos distintos en cada uno de los datasets, en 'spotify' es al nombre de la canción y en 'paises' es al nombre del país, por lo que esta columna queda descartada para la fusión. \n",
    "\n",
    "En la muestra de 'spotify', la columna 'country' arroja valores nulos, por lo que tendremos que mostrar los datos de la columna de otra forma. 'alpha-2' y 'alpha-3' muestran códigos de países de 2 y 3 letras respectivamente, del resto de columnas las que pueden aportar información relevante para el posterior EDA son: 'region' además de la ya mencionada 'name', que muestra el nombre completo del país.\n",
    "\n",
    "Seguimos en la búsqueda de columnas para hacer la fusión, por lo que extraemos la lista de valores de 'country' del dataset 'spotify'."
   ]
  },
  {
   "cell_type": "code",
   "execution_count": 7,
   "id": "71274fc7",
   "metadata": {},
   "outputs": [
    {
     "name": "stdout",
     "output_type": "stream",
     "text": [
      "Valores únicos en la columna 'country':\n",
      "[nan 'ZA' 'VN' 'VE' 'UY' 'US' 'UA' 'TW' 'TR' 'TH' 'SV' 'SK' 'SG' 'SE' 'SA'\n",
      " 'RO' 'PY' 'PT' 'PL' 'PK' 'PH' 'PE' 'PA' 'NZ' 'NO' 'NL' 'NI' 'NG' 'MY'\n",
      " 'MX' 'MA' 'LV' 'LU' 'LT' 'KZ' 'KR' 'JP' 'IT' 'IS' 'IN' 'IL' 'IE' 'ID'\n",
      " 'HU' 'HN' 'HK' 'GT' 'GR' 'FR' 'FI' 'ES' 'EG' 'EE' 'EC' 'DO' 'DK' 'DE'\n",
      " 'CZ' 'CR' 'CO' 'CL' 'CH' 'CA' 'BY' 'BR' 'BO' 'BG' 'BE' 'AU' 'AT' 'AR'\n",
      " 'AE' 'GB']\n"
     ]
    }
   ],
   "source": [
    "print(\"Valores únicos en la columna 'country':\")\n",
    "print(spotify['country'].unique())"
   ]
  },
  {
   "cell_type": "markdown",
   "id": "db7117fb",
   "metadata": {},
   "source": [
    "De la columna 'country' de 'spotify' ahora sabemos dos cosas. Por un lado: Tiene valores nulos (corresponden al TOP50 Global), y que contiene el código de país de 2 letras, por lo que se correspondería con la columna 'alpha-2' de 'paises'. Con esto ya hemos encontrado como hacer la fusión. Para poder incluir el TOP50 global en el posterior EDA y dashboard como top independiente y en comparación a los demás, sustituimos los valores vacíos/nulos por el código XX (para que no coincida con otros países)."
   ]
  },
  {
   "cell_type": "code",
   "execution_count": 8,
   "id": "75da768c",
   "metadata": {},
   "outputs": [],
   "source": [
    "spotify['country'] = spotify['country'].fillna('XX') "
   ]
  },
  {
   "cell_type": "markdown",
   "id": "c07a4056",
   "metadata": {},
   "source": [
    "Renombramos las columnas de 'paises', para hacer la fusión, y tener toda la información en un solo dataset."
   ]
  },
  {
   "cell_type": "code",
   "execution_count": 9,
   "id": "d671c515",
   "metadata": {},
   "outputs": [],
   "source": [
    "paises = paises.rename(columns={'alpha-2': 'country', 'name': 'country_name'})"
   ]
  },
  {
   "cell_type": "markdown",
   "id": "b3aade89",
   "metadata": {},
   "source": [
    "Hacemos un left join para que los datos de 'spotify' se mantengan intactos y se añada la información relevante del dataset 'paises'"
   ]
  },
  {
   "cell_type": "code",
   "execution_count": 10,
   "id": "eeaaf19d",
   "metadata": {},
   "outputs": [],
   "source": [
    "spotify_paises = spotify.merge(paises, on='country', how='left')"
   ]
  },
  {
   "cell_type": "markdown",
   "id": "8203f2fd",
   "metadata": {},
   "source": [
    "Comprobamos que la fusión se ha hecho correctamente..."
   ]
  },
  {
   "cell_type": "code",
   "execution_count": 11,
   "id": "3de1a642",
   "metadata": {},
   "outputs": [
    {
     "name": "stdout",
     "output_type": "stream",
     "text": [
      "(2110316, 35)\n",
      "               spotify_id                name                artists  \\\n",
      "0  2RkZ5LkEzeHGRsmDqKwmaJ            Ordinary            Alex Warren   \n",
      "1  42UBPzRMh5yyz0EDPr6fr1            Manchild      Sabrina Carpenter   \n",
      "2  0FTmksd2dxiE5e3rWyJXs6     back to friends                  sombr   \n",
      "3  7so0lgd0zP2Sbgs2d7a1SZ    Die With A Smile  Lady Gaga, Bruno Mars   \n",
      "4  6dOtVTDdiauQNBQEDOtlAB  BIRDS OF A FEATHER          Billie Eilish   \n",
      "\n",
      "   daily_rank  daily_movement  weekly_movement country snapshot_date  \\\n",
      "0           1               1                0      XX    2025-06-11   \n",
      "1           2              -1               48      XX    2025-06-11   \n",
      "2           3               0                1      XX    2025-06-11   \n",
      "3           4               0               -1      XX    2025-06-11   \n",
      "4           5               1                0      XX    2025-06-11   \n",
      "\n",
      "   popularity  is_explicit  ...  country_name alpha-3 country-code  \\\n",
      "0          95        False  ...           NaN     NaN          NaN   \n",
      "1          89         True  ...           NaN     NaN          NaN   \n",
      "2          98        False  ...           NaN     NaN          NaN   \n",
      "3          91        False  ...           NaN     NaN          NaN   \n",
      "4         100        False  ...           NaN     NaN          NaN   \n",
      "\n",
      "   iso_3166-2  region  sub-region  intermediate-region  region-code  \\\n",
      "0         NaN     NaN         NaN                  NaN          NaN   \n",
      "1         NaN     NaN         NaN                  NaN          NaN   \n",
      "2         NaN     NaN         NaN                  NaN          NaN   \n",
      "3         NaN     NaN         NaN                  NaN          NaN   \n",
      "4         NaN     NaN         NaN                  NaN          NaN   \n",
      "\n",
      "   sub-region-code  intermediate-region-code  \n",
      "0              NaN                       NaN  \n",
      "1              NaN                       NaN  \n",
      "2              NaN                       NaN  \n",
      "3              NaN                       NaN  \n",
      "4              NaN                       NaN  \n",
      "\n",
      "[5 rows x 35 columns]\n"
     ]
    }
   ],
   "source": [
    "print(spotify_paises.shape)\n",
    "print(spotify_paises.head())"
   ]
  },
  {
   "cell_type": "markdown",
   "id": "f7bfec47",
   "metadata": {},
   "source": [
    "... y guardamos el nuevo dataset"
   ]
  },
  {
   "cell_type": "code",
   "execution_count": 12,
   "id": "e878e7d5",
   "metadata": {},
   "outputs": [],
   "source": [
    "spotify_paises.to_csv(\"../data/interim/spotify_paises.csv\", index=False, encoding='utf-8')"
   ]
  }
 ],
 "metadata": {
  "kernelspec": {
   "display_name": "Python 3",
   "language": "python",
   "name": "python3"
  },
  "language_info": {
   "codemirror_mode": {
    "name": "ipython",
    "version": 3
   },
   "file_extension": ".py",
   "mimetype": "text/x-python",
   "name": "python",
   "nbconvert_exporter": "python",
   "pygments_lexer": "ipython3",
   "version": "3.12.8"
  }
 },
 "nbformat": 4,
 "nbformat_minor": 5
}
